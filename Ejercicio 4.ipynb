{
 "cells": [
  {
   "cell_type": "markdown",
   "metadata": {},
   "source": [
    "# Ejercicio 4"
   ]
  },
  {
   "cell_type": "markdown",
   "metadata": {},
   "source": [
    "El conjunto de datos binary.csv contiene información de la admisión de estudiantes a una\n",
    "universidad. Las variables son:  \n",
    "\n",
    "admit: (toma valores 0: no fue admitido, 1 fue admitido),  \n",
    "GRE: (Graduate Record Exam scores) variable numérica,  \n",
    "GP A: (grade point average) variable numérica,  \n",
    "rank: variable categórica que se refiere al prestigio de la escuela secundaria a la que\n",
    "el alumno asistió y toma valores {1, 2, 3, 4}.  \n",
    "Un investigador está interesado en averiguar cómo influyen estas variables en la admisión.\n",
    "Discretiza las variables GRE y GP A de la siguiente manera GRE ∈ {GRE ≥\n",
    "500, GRE < 500} y GP A ∈ {GP A ≥ 3, GP A < 3}. Sabe que estas variables cumplen las\n",
    "relaciones presentadas en la Figura 1.  \n",
    "\n",
    "<img src=\"figura1.png\">\n",
    "\n",
    "a) Calcular la probabilidad de que una persona que proviene de una escuela con rango\n",
    "1 no haya sido admitida en la universidad.  \n",
    "b) Calcular la probabilidad de que una persona que fue a una escuela de rango 2, tenga\n",
    "GRE = 450 y GPA = 3.5 sea admitida en la universidad.  \n",
    "c) En este ejercicio, ¿cuál es el proceso de aprendizaje?"
   ]
  },
  {
   "cell_type": "code",
   "execution_count": 6,
   "metadata": {},
   "outputs": [
    {
     "name": "stdout",
     "output_type": "stream",
     "text": [
      "The autoreload extension is already loaded. To reload it, use:\n",
      "  %reload_ext autoreload\n"
     ]
    }
   ],
   "source": [
    "%load_ext autoreload\n",
    "%autoreload 2\n",
    "import pandas as pd\n",
    "df = pd.read_csv(\"binary.csv\")"
   ]
  },
  {
   "cell_type": "code",
   "execution_count": null,
   "metadata": {},
   "outputs": [],
   "source": [
    "df.head()"
   ]
  },
  {
   "cell_type": "markdown",
   "metadata": {},
   "source": [
    "# Adecuación de las variables de entrada\n",
    "\n",
    "Voy a convertir las variables de entrada de acuerdo a la umbralización definida en el punto 1. De esta forma queda:\n",
    "\n",
    "admin: distribución de Bernoulli  \n",
    "gre: distribución de Bernoulli  \n",
    "gpa: distribución de Bernoulli  \n",
    "rank: distribución categórica "
   ]
  },
  {
   "cell_type": "code",
   "execution_count": 8,
   "metadata": {},
   "outputs": [],
   "source": [
    "df[\"gre\"] = 1*(df[\"gre\"]>=500)\n",
    "df[\"gpa\"] = 1*(df[\"gpa\"]>=3)"
   ]
  },
  {
   "cell_type": "code",
   "execution_count": 9,
   "metadata": {},
   "outputs": [
    {
     "data": {
      "text/html": [
       "<div>\n",
       "<style scoped>\n",
       "    .dataframe tbody tr th:only-of-type {\n",
       "        vertical-align: middle;\n",
       "    }\n",
       "\n",
       "    .dataframe tbody tr th {\n",
       "        vertical-align: top;\n",
       "    }\n",
       "\n",
       "    .dataframe thead th {\n",
       "        text-align: right;\n",
       "    }\n",
       "</style>\n",
       "<table border=\"1\" class=\"dataframe\">\n",
       "  <thead>\n",
       "    <tr style=\"text-align: right;\">\n",
       "      <th></th>\n",
       "      <th>admit</th>\n",
       "      <th>gre</th>\n",
       "      <th>gpa</th>\n",
       "      <th>rank</th>\n",
       "    </tr>\n",
       "  </thead>\n",
       "  <tbody>\n",
       "    <tr>\n",
       "      <th>0</th>\n",
       "      <td>0</td>\n",
       "      <td>0</td>\n",
       "      <td>1</td>\n",
       "      <td>3</td>\n",
       "    </tr>\n",
       "    <tr>\n",
       "      <th>1</th>\n",
       "      <td>1</td>\n",
       "      <td>1</td>\n",
       "      <td>1</td>\n",
       "      <td>3</td>\n",
       "    </tr>\n",
       "    <tr>\n",
       "      <th>2</th>\n",
       "      <td>1</td>\n",
       "      <td>1</td>\n",
       "      <td>1</td>\n",
       "      <td>1</td>\n",
       "    </tr>\n",
       "    <tr>\n",
       "      <th>3</th>\n",
       "      <td>1</td>\n",
       "      <td>1</td>\n",
       "      <td>1</td>\n",
       "      <td>4</td>\n",
       "    </tr>\n",
       "    <tr>\n",
       "      <th>4</th>\n",
       "      <td>0</td>\n",
       "      <td>1</td>\n",
       "      <td>0</td>\n",
       "      <td>4</td>\n",
       "    </tr>\n",
       "  </tbody>\n",
       "</table>\n",
       "</div>"
      ],
      "text/plain": [
       "   admit  gre  gpa  rank\n",
       "0      0    0    1     3\n",
       "1      1    1    1     3\n",
       "2      1    1    1     1\n",
       "3      1    1    1     4\n",
       "4      0    1    0     4"
      ]
     },
     "execution_count": 9,
     "metadata": {},
     "output_type": "execute_result"
    }
   ],
   "source": [
    "df.head()"
   ]
  },
  {
   "cell_type": "markdown",
   "metadata": {},
   "source": [
    "# Factorización de la conjunta\n",
    "\n",
    "Mirando el grafo podemos plantear la probabilidad conjunta en función de las siguientes independencias condicionales:\n",
    "\n",
    "\n",
    "$P(admit,gre,gpa,rank)= P(admit|gre,gpa,rank)P(gre,gpa,rank)$  \n",
    "$P(admit,gre,gpa,rank)= P(admit|gre,gpa,rank)P(gre,gpa|rank)P(rank)$  \n",
    "$P(admit,gre,gpa,rank)= P(admit|gre,gpa,rank)P(gre|rank)P(gpa|rank)P(rank)$  \n",
    "\n",
    "Ahora comienza nuestro proceso de aprendizaje, que es estimar estas probabilidades a partir de los datos. Podemos empezar por la mas sencilla que es P(rank):"
   ]
  },
  {
   "cell_type": "code",
   "execution_count": 22,
   "metadata": {},
   "outputs": [],
   "source": [
    "rank_values = list(df[\"rank\"].unique())\n",
    "gpa_values = list(df[\"gpa\"].unique())\n",
    "gre_values = list(df[\"gre\"].unique())\n",
    "admit_values = list(df[\"admit\"].unique())"
   ]
  },
  {
   "cell_type": "code",
   "execution_count": 23,
   "metadata": {},
   "outputs": [],
   "source": [
    "# Me fijo cuántas veces aparece cada valor de rank y normalizo\n",
    "p_rank = dict(df[\"rank\"].value_counts()/len(df))"
   ]
  },
  {
   "cell_type": "code",
   "execution_count": 24,
   "metadata": {},
   "outputs": [
    {
     "data": {
      "text/plain": [
       "{2: 0.3775, 3: 0.3025, 4: 0.1675, 1: 0.1525}"
      ]
     },
     "execution_count": 24,
     "metadata": {},
     "output_type": "execute_result"
    }
   ],
   "source": [
    "p_rank"
   ]
  },
  {
   "cell_type": "code",
   "execution_count": 40,
   "metadata": {},
   "outputs": [],
   "source": [
    "p_gpa = {rank_value:dict(df[df[\"rank\"]==rank_value][\"gpa\"].value_counts()/len(df[df[\"rank\"]==rank_value])) for rank_value in rank_values}"
   ]
  },
  {
   "cell_type": "code",
   "execution_count": 41,
   "metadata": {},
   "outputs": [],
   "source": [
    "p_gre = {rank_value:dict(df[df[\"rank\"]==rank_value][\"gre\"].value_counts()/len(df[df[\"rank\"]==rank_value])) for rank_value in rank_values}"
   ]
  },
  {
   "cell_type": "code",
   "execution_count": 44,
   "metadata": {},
   "outputs": [
    {
     "data": {
      "text/plain": [
       "{3: {1: 0.7933884297520661, 0: 0.2066115702479339},\n",
       " 1: {1: 0.819672131147541, 0: 0.18032786885245902},\n",
       " 4: {1: 0.7910447761194029, 0: 0.208955223880597},\n",
       " 2: {1: 0.8145695364238411, 0: 0.18543046357615894}}"
      ]
     },
     "execution_count": 44,
     "metadata": {},
     "output_type": "execute_result"
    }
   ],
   "source": [
    "p_gre"
   ]
  },
  {
   "cell_type": "code",
   "execution_count": 45,
   "metadata": {},
   "outputs": [
    {
     "data": {
      "text/plain": [
       "{3: {1: 0.8347107438016529, 0: 0.1652892561983471},\n",
       " 1: {1: 0.8688524590163934, 0: 0.13114754098360656},\n",
       " 4: {1: 0.8059701492537313, 0: 0.19402985074626866},\n",
       " 2: {1: 0.8278145695364238, 0: 0.17218543046357615}}"
      ]
     },
     "execution_count": 45,
     "metadata": {},
     "output_type": "execute_result"
    }
   ],
   "source": [
    "p_gpa"
   ]
  },
  {
   "cell_type": "code",
   "execution_count": 55,
   "metadata": {},
   "outputs": [],
   "source": [
    "p_admit = {}\n",
    "for rank_value in rank_values:\n",
    "    for gpa_value in gpa_values:\n",
    "        for gre_value in gre_values:\n",
    "            datos = df[(df[\"rank\"] ==rank_value) & (df[\"gpa\"] == gpa_value) & (df[\"gre\"] == gre_value)]\n",
    "            p_admit[(rank_value,gpa_value,gre_value)] = dict(datos[\"admit\"].value_counts()/len(datos))"
   ]
  },
  {
   "cell_type": "code",
   "execution_count": 56,
   "metadata": {},
   "outputs": [
    {
     "data": {
      "text/plain": [
       "{0: 0.8125, 1: 0.1875}"
      ]
     },
     "execution_count": 56,
     "metadata": {},
     "output_type": "execute_result"
    }
   ],
   "source": [
    "p_admit[(3,1,0)]"
   ]
  },
  {
   "cell_type": "code",
   "execution_count": 57,
   "metadata": {},
   "outputs": [
    {
     "data": {
      "text/plain": [
       "16"
      ]
     },
     "execution_count": 57,
     "metadata": {},
     "output_type": "execute_result"
    }
   ],
   "source": [
    "len(p_admit)"
   ]
  },
  {
   "cell_type": "code",
   "execution_count": 58,
   "metadata": {},
   "outputs": [
    {
     "data": {
      "text/plain": [
       "{(3, 1, 0): {0: 0.8125, 1: 0.1875},\n",
       " (3, 1, 1): {0: 0.7529411764705882, 1: 0.24705882352941178},\n",
       " (3, 0, 0): {0: 1.0},\n",
       " (3, 0, 1): {0: 0.6363636363636364, 1: 0.36363636363636365},\n",
       " (1, 1, 0): {1: 0.5, 0: 0.5},\n",
       " (1, 1, 1): {1: 0.5531914893617021, 0: 0.44680851063829785},\n",
       " (1, 0, 0): {0: 0.8, 1: 0.2},\n",
       " (1, 0, 1): {1: 1.0},\n",
       " (4, 1, 0): {0: 0.8, 1: 0.2},\n",
       " (4, 1, 1): {0: 0.7954545454545454, 1: 0.20454545454545456},\n",
       " (4, 0, 0): {0: 1.0},\n",
       " (4, 0, 1): {0: 0.8888888888888888, 1: 0.1111111111111111},\n",
       " (2, 1, 0): {0: 0.8095238095238095, 1: 0.19047619047619047},\n",
       " (2, 1, 1): {0: 0.5769230769230769, 1: 0.4230769230769231},\n",
       " (2, 0, 0): {0: 0.5714285714285714, 1: 0.42857142857142855},\n",
       " (2, 0, 1): {0: 0.8421052631578947, 1: 0.15789473684210525}}"
      ]
     },
     "execution_count": 58,
     "metadata": {},
     "output_type": "execute_result"
    }
   ],
   "source": [
    "p_admit"
   ]
  },
  {
   "cell_type": "markdown",
   "metadata": {},
   "source": [
    "## a) Calcular la probabilidad de que una persona que proviene de una escuela con rango 1 no haya sido admitida en la universidad.\n",
    "\n",
    "Se pide $P(admit=0|rango=1)$  \n",
    "\n",
    "Tengo que fijar admit en 0 y rango en 1 y sumar con respecto a GPA y GRE para tener $P(admit, rank)$  \n",
    "Tengo que fijar rango en 1 y sumar con respecto a GPA, GRE y admit para tener $P(rank)$"
   ]
  },
  {
   "cell_type": "code",
   "execution_count": 87,
   "metadata": {},
   "outputs": [],
   "source": [
    "rank = 1\n",
    "p_ar = 0\n",
    "p_r = 0\n",
    "for gpa in gpa_values:\n",
    "    for gre in gre_values:\n",
    "        p_ar += p_admit[(rank,gpa,gre)].get(0,0)*p_gpa[rank].get(gpa,0)*p_gre[rank].get(gre,0)*p_rank.get(rank,0)\n",
    "for admit in admit_values:\n",
    "    for gpa in gpa_values:\n",
    "        for gre in gre_values:\n",
    "            p_r += p_admit[(rank,gpa,gre)].get(admit,0)*p_gpa[rank].get(gpa,0)*p_gre[rank].get(gre,0)*p_rank.get(rank,0)"
   ]
  },
  {
   "cell_type": "code",
   "execution_count": 88,
   "metadata": {},
   "outputs": [
    {
     "data": {
      "text/plain": [
       "0.41546427121512747"
      ]
     },
     "execution_count": 88,
     "metadata": {},
     "output_type": "execute_result"
    }
   ],
   "source": [
    "p_ar/p_r"
   ]
  },
  {
   "cell_type": "code",
   "execution_count": 89,
   "metadata": {},
   "outputs": [],
   "source": [
    "# Verificación rápida calculando los valores directo del dataset"
   ]
  },
  {
   "cell_type": "code",
   "execution_count": 90,
   "metadata": {},
   "outputs": [
    {
     "data": {
      "text/plain": [
       "1    0.540984\n",
       "0    0.459016\n",
       "Name: admit, dtype: float64"
      ]
     },
     "execution_count": 90,
     "metadata": {},
     "output_type": "execute_result"
    }
   ],
   "source": [
    "df[df[\"rank\"]==1][\"admit\"].value_counts()/len(df[df[\"rank\"]==1])"
   ]
  },
  {
   "cell_type": "markdown",
   "metadata": {},
   "source": [
    "Interesante, no da lo mismo porque no estoy aplicando la condición de independencia condicional entre GRE y GPA."
   ]
  },
  {
   "cell_type": "markdown",
   "metadata": {},
   "source": [
    "## b) Calcular la probabilidad de que una persona que fue a una escuela de rango 2, tenga GRE = 450 y GPA = 3.5 sea admitida en la universidad. \n",
    "\n",
    "Eso implica rank=2, GRE=0, GPA=1.  \n",
    "Se pide $P(admit=1|rank=2, GPA=1, GRE=0)$.  "
   ]
  },
  {
   "cell_type": "code",
   "execution_count": 91,
   "metadata": {},
   "outputs": [
    {
     "data": {
      "text/plain": [
       "{0: 0.8095238095238095, 1: 0.19047619047619047}"
      ]
     },
     "execution_count": 91,
     "metadata": {},
     "output_type": "execute_result"
    }
   ],
   "source": [
    "p_admit[(2,1,0)]"
   ]
  },
  {
   "cell_type": "markdown",
   "metadata": {},
   "source": [
    "## c) En este ejercicio, ¿cuál es el proceso de aprendizaje?\n",
    "\n",
    "El proceso de aprendizaje ocurrió cuando estimamos las probabilidades condicionales."
   ]
  },
  {
   "cell_type": "code",
   "execution_count": null,
   "metadata": {},
   "outputs": [],
   "source": []
  }
 ],
 "metadata": {
  "kernelspec": {
   "display_name": "Python [conda env:NLP]",
   "language": "python",
   "name": "conda-env-NLP-py"
  },
  "language_info": {
   "codemirror_mode": {
    "name": "ipython",
    "version": 3
   },
   "file_extension": ".py",
   "mimetype": "text/x-python",
   "name": "python",
   "nbconvert_exporter": "python",
   "pygments_lexer": "ipython3",
   "version": "3.7.3"
  }
 },
 "nbformat": 4,
 "nbformat_minor": 2
}
