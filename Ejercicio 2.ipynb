{
 "cells": [
  {
   "cell_type": "markdown",
   "metadata": {},
   "source": [
    "# Ejercicio 2\n",
    "\n",
    "Consideremos el siguiente vector de atributos binarios:  \n",
    "\n",
    "(scones, cerveza, whisky, avena, futbol)\n",
    "\n",
    "El vector x = (1, 0, 1, 1, 0) significa que se trata de una persona que le gustan los scones,\n",
    "no toma cerveza, le gusta el whisky y la avena pero no ve futbol. En el archivo PreferenciasBritanicos.xls se encuentran las preferencias de 6 personas inglesas y 7 personas\n",
    "escocesas.  \n",
    "\n",
    "a) Implementar el clasificador ingenuo de Bayes.  \n",
    "b) Clasificar el ejemplo x = (1, 0, 1, 1, 0) determinando si corresponde a las preferencias de una persona inglesa o escosesa."
   ]
  },
  {
   "cell_type": "code",
   "execution_count": 1,
   "metadata": {},
   "outputs": [],
   "source": [
    "%load_ext autoreload\n",
    "%autoreload 2"
   ]
  },
  {
   "cell_type": "code",
   "execution_count": 2,
   "metadata": {},
   "outputs": [],
   "source": [
    "import pandas as pd"
   ]
  },
  {
   "cell_type": "code",
   "execution_count": 3,
   "metadata": {},
   "outputs": [],
   "source": [
    "datos = pd.read_excel(\"PreferenciasBritanicos(1).xlsx\")"
   ]
  },
  {
   "cell_type": "code",
   "execution_count": 4,
   "metadata": {},
   "outputs": [
    {
     "data": {
      "text/html": [
       "<div>\n",
       "<style scoped>\n",
       "    .dataframe tbody tr th:only-of-type {\n",
       "        vertical-align: middle;\n",
       "    }\n",
       "\n",
       "    .dataframe tbody tr th {\n",
       "        vertical-align: top;\n",
       "    }\n",
       "\n",
       "    .dataframe thead th {\n",
       "        text-align: right;\n",
       "    }\n",
       "</style>\n",
       "<table border=\"1\" class=\"dataframe\">\n",
       "  <thead>\n",
       "    <tr style=\"text-align: right;\">\n",
       "      <th></th>\n",
       "      <th>scones</th>\n",
       "      <th>cerveza</th>\n",
       "      <th>wiskey</th>\n",
       "      <th>avena</th>\n",
       "      <th>futbol</th>\n",
       "      <th>Nacionalidad</th>\n",
       "    </tr>\n",
       "  </thead>\n",
       "  <tbody>\n",
       "    <tr>\n",
       "      <th>0</th>\n",
       "      <td>0</td>\n",
       "      <td>0</td>\n",
       "      <td>1</td>\n",
       "      <td>1</td>\n",
       "      <td>1</td>\n",
       "      <td>I</td>\n",
       "    </tr>\n",
       "    <tr>\n",
       "      <th>1</th>\n",
       "      <td>1</td>\n",
       "      <td>0</td>\n",
       "      <td>1</td>\n",
       "      <td>1</td>\n",
       "      <td>0</td>\n",
       "      <td>I</td>\n",
       "    </tr>\n",
       "    <tr>\n",
       "      <th>2</th>\n",
       "      <td>1</td>\n",
       "      <td>1</td>\n",
       "      <td>0</td>\n",
       "      <td>0</td>\n",
       "      <td>1</td>\n",
       "      <td>I</td>\n",
       "    </tr>\n",
       "    <tr>\n",
       "      <th>3</th>\n",
       "      <td>1</td>\n",
       "      <td>1</td>\n",
       "      <td>0</td>\n",
       "      <td>0</td>\n",
       "      <td>0</td>\n",
       "      <td>I</td>\n",
       "    </tr>\n",
       "    <tr>\n",
       "      <th>4</th>\n",
       "      <td>0</td>\n",
       "      <td>1</td>\n",
       "      <td>0</td>\n",
       "      <td>0</td>\n",
       "      <td>1</td>\n",
       "      <td>I</td>\n",
       "    </tr>\n",
       "    <tr>\n",
       "      <th>5</th>\n",
       "      <td>0</td>\n",
       "      <td>0</td>\n",
       "      <td>0</td>\n",
       "      <td>1</td>\n",
       "      <td>0</td>\n",
       "      <td>I</td>\n",
       "    </tr>\n",
       "    <tr>\n",
       "      <th>6</th>\n",
       "      <td>1</td>\n",
       "      <td>0</td>\n",
       "      <td>0</td>\n",
       "      <td>1</td>\n",
       "      <td>1</td>\n",
       "      <td>E</td>\n",
       "    </tr>\n",
       "    <tr>\n",
       "      <th>7</th>\n",
       "      <td>1</td>\n",
       "      <td>1</td>\n",
       "      <td>0</td>\n",
       "      <td>0</td>\n",
       "      <td>1</td>\n",
       "      <td>E</td>\n",
       "    </tr>\n",
       "    <tr>\n",
       "      <th>8</th>\n",
       "      <td>1</td>\n",
       "      <td>1</td>\n",
       "      <td>1</td>\n",
       "      <td>1</td>\n",
       "      <td>0</td>\n",
       "      <td>E</td>\n",
       "    </tr>\n",
       "    <tr>\n",
       "      <th>9</th>\n",
       "      <td>1</td>\n",
       "      <td>1</td>\n",
       "      <td>0</td>\n",
       "      <td>1</td>\n",
       "      <td>0</td>\n",
       "      <td>E</td>\n",
       "    </tr>\n",
       "    <tr>\n",
       "      <th>10</th>\n",
       "      <td>1</td>\n",
       "      <td>1</td>\n",
       "      <td>0</td>\n",
       "      <td>1</td>\n",
       "      <td>1</td>\n",
       "      <td>E</td>\n",
       "    </tr>\n",
       "    <tr>\n",
       "      <th>11</th>\n",
       "      <td>1</td>\n",
       "      <td>0</td>\n",
       "      <td>1</td>\n",
       "      <td>1</td>\n",
       "      <td>0</td>\n",
       "      <td>E</td>\n",
       "    </tr>\n",
       "    <tr>\n",
       "      <th>12</th>\n",
       "      <td>1</td>\n",
       "      <td>0</td>\n",
       "      <td>1</td>\n",
       "      <td>0</td>\n",
       "      <td>0</td>\n",
       "      <td>E</td>\n",
       "    </tr>\n",
       "  </tbody>\n",
       "</table>\n",
       "</div>"
      ],
      "text/plain": [
       "    scones  cerveza  wiskey  avena  futbol Nacionalidad\n",
       "0        0        0       1      1       1            I\n",
       "1        1        0       1      1       0            I\n",
       "2        1        1       0      0       1            I\n",
       "3        1        1       0      0       0            I\n",
       "4        0        1       0      0       1            I\n",
       "5        0        0       0      1       0            I\n",
       "6        1        0       0      1       1            E\n",
       "7        1        1       0      0       1            E\n",
       "8        1        1       1      1       0            E\n",
       "9        1        1       0      1       0            E\n",
       "10       1        1       0      1       1            E\n",
       "11       1        0       1      1       0            E\n",
       "12       1        0       1      0       0            E"
      ]
     },
     "execution_count": 4,
     "metadata": {},
     "output_type": "execute_result"
    }
   ],
   "source": [
    "datos"
   ]
  },
  {
   "cell_type": "code",
   "execution_count": 6,
   "metadata": {},
   "outputs": [],
   "source": [
    "from ejercicio2_helper import BernoulliNaiveBayes as BNV_ej2\n",
    "from sklearn.naive_bayes import BernoulliNB"
   ]
  },
  {
   "cell_type": "code",
   "execution_count": 7,
   "metadata": {},
   "outputs": [],
   "source": [
    "clf_ej2 = BNV_ej2(smoothing=1e-10)\n",
    "clf_sklearn=BernoulliNB(alpha=1e-10)"
   ]
  },
  {
   "cell_type": "code",
   "execution_count": 8,
   "metadata": {},
   "outputs": [
    {
     "data": {
      "text/plain": [
       "BernoulliNB(alpha=1e-10, binarize=0.0, class_prior=None, fit_prior=True)"
      ]
     },
     "execution_count": 8,
     "metadata": {},
     "output_type": "execute_result"
    }
   ],
   "source": [
    "clf_ej2.fit(datos, \"Nacionalidad\")\n",
    "clf_sklearn.fit(datos.drop(columns=\"Nacionalidad\"),datos[\"Nacionalidad\"])"
   ]
  },
  {
   "cell_type": "code",
   "execution_count": 9,
   "metadata": {},
   "outputs": [
    {
     "name": "stdout",
     "output_type": "stream",
     "text": [
      "Prioris obtenidas por nuestro modelo\n",
      "{'I': -0.7731898882334817, 'E': -0.6190392084062235}\n",
      "Prioris obtenidas por sklearn\n",
      "['E' 'I'] [-0.61903921 -0.77318989]\n"
     ]
    }
   ],
   "source": [
    "print(\"Prioris obtenidas por nuestro modelo\")\n",
    "print(clf_ej2.log_prioris)\n",
    "print(\"Prioris obtenidas por sklearn\")\n",
    "print(clf_sklearn.classes_,clf_sklearn.class_log_prior_)\n"
   ]
  },
  {
   "cell_type": "code",
   "execution_count": 10,
   "metadata": {},
   "outputs": [
    {
     "name": "stdout",
     "output_type": "stream",
     "text": [
      "Log probabilidades de los predictores obtenidas por nuestro modelo\n",
      "{'I': scones    -0.693147\n",
      "cerveza   -0.693147\n",
      "wiskey    -1.098612\n",
      "avena     -0.693147\n",
      "futbol    -0.693147\n",
      "dtype: float64, 'E': scones    -1.428568e-11\n",
      "cerveza   -5.596158e-01\n",
      "wiskey    -8.472979e-01\n",
      "avena     -3.364722e-01\n",
      "futbol    -8.472979e-01\n",
      "dtype: float64}\n",
      "\n",
      "\n",
      "Log probabilidades de los predictores obtenidas por sklearn\n",
      "['E' 'I'] [[-1.42859058e-11 -5.59615788e-01 -8.47297860e-01 -3.36472237e-01\n",
      "  -8.47297860e-01]\n",
      " [-6.93147181e-01 -6.93147181e-01 -1.09861229e+00 -6.93147181e-01\n",
      "  -6.93147181e-01]]\n"
     ]
    }
   ],
   "source": [
    "print(\"Log probabilidades de los predictores obtenidas por nuestro modelo\")\n",
    "print(clf_ej2.log_likelihoods_1,end=\"\\n\\n\\n\")\n",
    "print(\"Log probabilidades de los predictores obtenidas por sklearn\")\n",
    "print(clf_sklearn.classes_, clf_sklearn.feature_log_prob_)"
   ]
  },
  {
   "cell_type": "code",
   "execution_count": 11,
   "metadata": {},
   "outputs": [
    {
     "name": "stdout",
     "output_type": "stream",
     "text": [
      "Las probabilidades de cada clase para cada observación, según nuestro modelo:\n",
      "           I             E\n",
      "0   1.000000  4.498116e-11\n",
      "1   0.192372  8.076276e-01\n",
      "2   0.471802  5.281981e-01\n",
      "3   0.401170  5.988304e-01\n",
      "4   1.000000  1.599330e-11\n",
      "5   1.000000  3.998325e-11\n",
      "6   0.322672  6.773283e-01\n",
      "7   0.471802  5.281981e-01\n",
      "8   0.151569  8.484313e-01\n",
      "9   0.211337  7.886630e-01\n",
      "10  0.263239  7.367613e-01\n",
      "11  0.192372  8.076276e-01\n",
      "12  0.373232  6.267682e-01\n",
      "\n",
      "\n",
      "Las probabilidades de cada clase para cada observación, según sklearn:\n",
      "[[4.49818608e-11 1.00000000e+00]\n",
      " [8.07627594e-01 1.92372406e-01]\n",
      " [5.28198074e-01 4.71801926e-01]\n",
      " [5.98830409e-01 4.01169591e-01]\n",
      " [1.59935505e-11 1.00000000e+00]\n",
      " [3.99838763e-11 1.00000000e+00]\n",
      " [6.77328316e-01 3.22671684e-01]\n",
      " [5.28198074e-01 4.71801926e-01]\n",
      " [8.48431286e-01 1.51568714e-01]\n",
      " [7.88662970e-01 2.11337030e-01]\n",
      " [7.36761320e-01 2.63238680e-01]\n",
      " [8.07627594e-01 1.92372406e-01]\n",
      " [6.26768226e-01 3.73231774e-01]]\n"
     ]
    }
   ],
   "source": [
    "print(\"Las probabilidades de cada clase para cada observación, según nuestro modelo:\")\n",
    "print(clf_ej2.predict_proba(datos), end=\"\\n\\n\\n\")\n",
    "print(\"Las probabilidades de cada clase para cada observación, según sklearn:\")\n",
    "print(clf_sklearn.predict_proba(datos.drop(columns=\"Nacionalidad\")))"
   ]
  },
  {
   "cell_type": "code",
   "execution_count": 12,
   "metadata": {},
   "outputs": [
    {
     "name": "stdout",
     "output_type": "stream",
     "text": [
      "Las estimaciones de la clases para cada observación, según nuestro modelo:\n",
      "0     I\n",
      "1     E\n",
      "2     E\n",
      "3     E\n",
      "4     I\n",
      "5     I\n",
      "6     E\n",
      "7     E\n",
      "8     E\n",
      "9     E\n",
      "10    E\n",
      "11    E\n",
      "12    E\n",
      "dtype: object\n",
      "\n",
      "\n",
      "Las estimaciones de la clases para cada observación, según sklearn:\n",
      "['I' 'E' 'E' 'E' 'I' 'I' 'E' 'E' 'E' 'E' 'E' 'E' 'E']\n"
     ]
    }
   ],
   "source": [
    "print(\"Las estimaciones de la clases para cada observación, según nuestro modelo:\")\n",
    "print(clf_ej2.predict(datos), end=\"\\n\\n\\n\")\n",
    "print(\"Las estimaciones de la clases para cada observación, según sklearn:\")\n",
    "print(clf_sklearn.predict(datos.drop(columns=\"Nacionalidad\")))\n"
   ]
  },
  {
   "cell_type": "code",
   "execution_count": 13,
   "metadata": {},
   "outputs": [],
   "source": [
    "test = pd.DataFrame({\"scones\":[1],\"cerveza\":[0], \"wiskey\":[1], \"avena\":[1], \"futbol\":[0], \"Nacionalidad\":\"\"})"
   ]
  },
  {
   "cell_type": "code",
   "execution_count": 14,
   "metadata": {},
   "outputs": [
    {
     "name": "stdout",
     "output_type": "stream",
     "text": [
      "La estimación de la clases para test, según nuestro modelo:\n",
      "0    E\n",
      "dtype: object\n",
      "\n",
      "\n",
      "La estimación de la clases para test, según sklearn:\n",
      "['E']\n"
     ]
    }
   ],
   "source": [
    "print(\"La estimación de la clases para test, según nuestro modelo:\")\n",
    "print(clf_ej2.predict(test), end=\"\\n\\n\\n\")\n",
    "print(\"La estimación de la clases para test, según sklearn:\")\n",
    "print(clf_sklearn.predict(test.drop(columns=\"Nacionalidad\")))"
   ]
  },
  {
   "cell_type": "code",
   "execution_count": 15,
   "metadata": {},
   "outputs": [
    {
     "name": "stdout",
     "output_type": "stream",
     "text": [
      "          I         E\n",
      "0  0.192372  0.807628\n",
      "\n",
      "\n"
     ]
    }
   ],
   "source": [
    "print(clf_ej2.predict_proba(test), end=\"\\n\\n\\n\")"
   ]
  },
  {
   "cell_type": "code",
   "execution_count": null,
   "metadata": {},
   "outputs": [],
   "source": []
  }
 ],
 "metadata": {
  "kernelspec": {
   "display_name": "Python [conda env:NLP]",
   "language": "python",
   "name": "conda-env-NLP-py"
  },
  "language_info": {
   "codemirror_mode": {
    "name": "ipython",
    "version": 3
   },
   "file_extension": ".py",
   "mimetype": "text/x-python",
   "name": "python",
   "nbconvert_exporter": "python",
   "pygments_lexer": "ipython3",
   "version": "3.7.3"
  }
 },
 "nbformat": 4,
 "nbformat_minor": 2
}
