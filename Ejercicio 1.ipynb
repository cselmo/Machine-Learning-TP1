{
 "cells": [
  {
   "cell_type": "markdown",
   "metadata": {},
   "source": [
    "# Ejercicio 1\n",
    "## Alumno: Carlos Selmo\n",
    "\n",
    "Una estación de radio tiene dos grupos de oyentes, los jóvenes y los viejos.\n",
    "Se sabe que si el oyente es joven hay una probabilidad del 95 % de que le guste el programa 1, una \n",
    "probabilidad del 5 % de que le guste el programa 2, una probabilidd del 2 % de que le \n",
    "guste programa 3 y una probabilidad del 20 % de que le guste el programa 4.  \n",
    "Por otro lado, si el oyente es viejo, hay una probabiliad del 3 % de que le guste el programa\n",
    "1, una probabilidad del 82 % de que le guste el programa 2, una probabilidad del 34 % de\n",
    "que le guste el programa 3 y una probabilidaddel 92 % deque le guste el programa 4.  \n",
    "Se sabe también que el 90 % de los oyentes son viejos.  \n",
    "Un nuevo oyente escucha los programas 1 y 3 pero no le gustan los programas 2 y 4.  \n",
    "Calcular la probabilidad de que este ojente sea joven y la probabilidad de que sea viejo. "
   ]
  },
  {
   "cell_type": "markdown",
   "metadata": {},
   "source": [
    "## Datos:\n",
    "\n",
    "$G_i$: gusto por el programa $i$. Puede valer 1 o 0. 1 si le gusta, 0 si no le gusta.  \n",
    "$R$: rango etario.   \n",
    "$P(G_1=1|R=\\text{\"joven\"}) = 0.95)$  \n",
    "$P(G_2=1|R=\\text{\"joven\"}) = 0.05)$  \n",
    "$P(G_3=1|R=\\text{\"joven\"}) = 0.02)$  \n",
    "$P(G_4=1|R=\\text{\"joven\"}) = 0.2)$  \n",
    "$P(G_1=1|R=\\text{\"viejo\"}) = 0.03)$  \n",
    "$P(G_2=1|R=\\text{\"viejo\"}) = 0.82)$  \n",
    "$P(G_3=1|R=\\text{\"viejo\"}) = 0.34)$  \n",
    "$P(G_4=1|R=\\text{\"viejo\"}) = 0.92)$  \n",
    "$P(R=\\text{\"viejo\"}) = 0.9 $  \n",
    "\n",
    "## Se pide:  \n",
    "\n",
    "$P(R=\\text{\"joven\"} | G_1=1, G_2=0, G_3=1, G_4=0)$  \n",
    "\n",
    "## Solución:\n",
    "\n",
    "Si aplicamos la regla de Bayes:\n",
    "\n",
    "$$P(R=\\text{\"joven\"} | G_1=1, G_2=0, G_3=1, G_4=0) = \\frac{P(G_1=1, G_2=0, G_3=1, G_4=0|R=\\text{\"joven\"}) P(R=\\text{\"joven\"})}{P(G_1=1, G_2=0, G_3=1, G_4=0)}$$  \n",
    "\n",
    "Si asumimos independencia entre las probabilidades condicionales $P(G_i|R)$ podemos escribir:  \n",
    "\n",
    "$P\\left(G_1=1, G_2=0, G_3=1, G_4=0|R=\\text{\"joven\"}\\right) = P(G_1=1|R=\\text{\"joven\"})P(G_2=0|R=\\text{\"joven\"})P(G_3=1|R=\\text{\"joven\"})P(G_4=0|R=\\text{\"joven\"})$\n",
    "\n",
    "$P(R=\\text{\"joven\"} | G_1=1, G_2=0, G_3=1, G_4=0) = \\frac{P(G_1=1|R=\\text{\"joven\"})P(G_2=0|R=\\text{\"joven\"})P(G_3=1|R=\\text{\"joven\"})P(G_4=0|R=\\text{\"joven\"})P(R=\\text{\"joven\"})}{Z}$\n",
    "\n",
    "Donde:\n",
    "\n",
    "$Z = P(G_1=1|R=\\text{\"joven\"})P(G_2=0|R=\\text{\"joven\"})P(G_3=1|R=\\text{\"joven\"})P(G_4=0|R=\\text{\"joven\"})P(R=\\text{\"joven\"}) + P(G_1=1|R=\\text{\"joven\"})P(G_2=0|R=\\text{\"joven\"})P(G_3=1|R=\\text{\"v\"})P(G_4=0|R=\\text{\"viejo\"})P(R=\\text{\"viejo\"})$\n",
    "\n",
    "## Cuentas:\n",
    "\n",
    "Si tenemos en cuenta que $P(G_i=0|R) = 1 - P(G_i=1|R)$ :"
   ]
  },
  {
   "cell_type": "code",
   "execution_count": 7,
   "metadata": {},
   "outputs": [
    {
     "name": "stdout",
     "output_type": "stream",
     "text": [
      "La probabilidad de que alguien que a alguien que le gustan los programas 1 y 3 y no le gustan los programas 2 y 4 sea joven es: 0.9161320448270261\n",
      "La probabilidad de que alguien que a alguien que le gustan los programas 1 y 3 y no le gustan los programas 2 y 4 sea viejo es: 0.08386795517297382\n"
     ]
    }
   ],
   "source": [
    "p_g1_j = 0.95 # Probabilidad de que le guste el programa 1 dado que es joven\n",
    "p_ng1_j = 1 - p_g1_j # Probabilidad de que NO le guste el programa 1 dado que es joven\n",
    "p_g2_j = 0.05 \n",
    "p_ng2_j = 1 - p_g2_j \n",
    "p_g3_j = 0.02 \n",
    "p_ng3_j = 1 - p_g3_j \n",
    "p_g4_j = 0.2 \n",
    "p_ng4_j = 1 - p_g4_j \n",
    "\n",
    "p_g1_v = 0.03 # Probabilidad de que le guste el programa 1 dado que es viejo\n",
    "p_ng1_v = 1 - p_g1_v # Probabilidad de que NO le guste el programa 1 dado que es viejo\n",
    "p_g2_v = 0.82 \n",
    "p_ng2_v = 1 - p_g2_v \n",
    "p_g3_v = 0.34 \n",
    "p_ng3_v = 1 - p_g3_v \n",
    "p_g4_v = 0.92\n",
    "p_ng4_v = 1 - p_g4_v\n",
    "\n",
    "p_j = 0.1 # Probabilidad de que sea joven\n",
    "p_v = 0.9 # Probabilidad de que sea viejo\n",
    "\n",
    "p_pedida1_nn = p_g1_j*p_ng2_j*p_g3_j*p_ng4_j*p_j # Primera probabilidad pedida, sin normalizar\n",
    "p_pedida2_nn = p_g1_v*p_ng2_v*p_g3_v*p_ng4_v*p_v # Segunda probabilidad pedida, sin normalizar\n",
    "\n",
    "p_pedida1 = p_pedida1_nn/(p_pedida1_nn+p_pedida2_nn)\n",
    "p_pedida2 = p_pedida2_nn/(p_pedida1_nn+p_pedida2_nn)\n",
    "\n",
    "print(f\"La probabilidad de que alguien que a alguien que le gustan los programas 1 y 3 y no le gustan los programas 2 y 4 sea joven es: {p_pedida1}\")\n",
    "print(f\"La probabilidad de que alguien que a alguien que le gustan los programas 1 y 3 y no le gustan los programas 2 y 4 sea viejo es: {p_pedida2}\")"
   ]
  },
  {
   "cell_type": "code",
   "execution_count": null,
   "metadata": {},
   "outputs": [],
   "source": []
  }
 ],
 "metadata": {
  "kernelspec": {
   "display_name": "Python [conda env:NLP]",
   "language": "python",
   "name": "conda-env-NLP-py"
  },
  "language_info": {
   "codemirror_mode": {
    "name": "ipython",
    "version": 3
   },
   "file_extension": ".py",
   "mimetype": "text/x-python",
   "name": "python",
   "nbconvert_exporter": "python",
   "pygments_lexer": "ipython3",
   "version": "3.7.3"
  }
 },
 "nbformat": 4,
 "nbformat_minor": 2
}
