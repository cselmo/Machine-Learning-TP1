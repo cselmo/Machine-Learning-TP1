{
 "cells": [
  {
   "cell_type": "markdown",
   "metadata": {},
   "source": [
    "# Ejercicio 3\n",
    "\n",
    "Implementar un clasificador de texto utilizando el clasificador ingenuo de Bayes. Utilizar\n",
    "el conjunto de datos ”Noticias Argentinas” para clasificar cada noticia según su tipo.  \n",
    "a) Utilizar al menos 4 categorı́as. Dividir el conjunto de textos disponible para utilizar\n",
    "una parte de los mismos como conjunto de entrenamiento y otro como conjunto test.  \n",
    "b) Construir la matriz de confusión.  \n",
    "c) Calcular las medidas de evaluación Accuracy, Precision, tasa de verdaderos positivos,\n",
    "tasa de falsos positivos y F 1 -score.  \n",
    "d ) Calcular la curva ROC.  "
   ]
  },
  {
   "cell_type": "code",
   "execution_count": 1,
   "metadata": {},
   "outputs": [],
   "source": [
    "%load_ext autoreload\n",
    "%autoreload 2\n",
    "import pandas as pd\n",
    "import numpy as np\n",
    "from ejercicio2_helper import BernoulliNaiveBayes as BNV_ej3"
   ]
  },
  {
   "cell_type": "code",
   "execution_count": 2,
   "metadata": {},
   "outputs": [],
   "source": [
    "df = pd.read_excel(\"Noticias_argentinas.xlsx\")"
   ]
  },
  {
   "cell_type": "code",
   "execution_count": 3,
   "metadata": {},
   "outputs": [],
   "source": [
    "df = df[[\"titular\",\"categoria\"]]"
   ]
  },
  {
   "cell_type": "code",
   "execution_count": 4,
   "metadata": {},
   "outputs": [
    {
     "data": {
      "text/html": [
       "<div>\n",
       "<style scoped>\n",
       "    .dataframe tbody tr th:only-of-type {\n",
       "        vertical-align: middle;\n",
       "    }\n",
       "\n",
       "    .dataframe tbody tr th {\n",
       "        vertical-align: top;\n",
       "    }\n",
       "\n",
       "    .dataframe thead th {\n",
       "        text-align: right;\n",
       "    }\n",
       "</style>\n",
       "<table border=\"1\" class=\"dataframe\">\n",
       "  <thead>\n",
       "    <tr style=\"text-align: right;\">\n",
       "      <th></th>\n",
       "      <th>titular</th>\n",
       "      <th>categoria</th>\n",
       "    </tr>\n",
       "  </thead>\n",
       "  <tbody>\n",
       "    <tr>\n",
       "      <th>0</th>\n",
       "      <td>Trabajadores del Buenos Aires Design cortan la...</td>\n",
       "      <td>Nacional</td>\n",
       "    </tr>\n",
       "    <tr>\n",
       "      <th>1</th>\n",
       "      <td>La boda del gobernador Gerardo Morales: tapas ...</td>\n",
       "      <td>Nacional</td>\n",
       "    </tr>\n",
       "    <tr>\n",
       "      <th>2</th>\n",
       "      <td>Cumbre del G20: qué calles estarán cortadas y ...</td>\n",
       "      <td>Nacional</td>\n",
       "    </tr>\n",
       "    <tr>\n",
       "      <th>3</th>\n",
       "      <td>Una fractura que confirma la candidatura de Cr...</td>\n",
       "      <td>Nacional</td>\n",
       "    </tr>\n",
       "    <tr>\n",
       "      <th>4</th>\n",
       "      <td>Infierno grande: ola de divorcios en un pueblo...</td>\n",
       "      <td>Nacional</td>\n",
       "    </tr>\n",
       "  </tbody>\n",
       "</table>\n",
       "</div>"
      ],
      "text/plain": [
       "                                             titular categoria\n",
       "0  Trabajadores del Buenos Aires Design cortan la...  Nacional\n",
       "1  La boda del gobernador Gerardo Morales: tapas ...  Nacional\n",
       "2  Cumbre del G20: qué calles estarán cortadas y ...  Nacional\n",
       "3  Una fractura que confirma la candidatura de Cr...  Nacional\n",
       "4  Infierno grande: ola de divorcios en un pueblo...  Nacional"
      ]
     },
     "execution_count": 4,
     "metadata": {},
     "output_type": "execute_result"
    }
   ],
   "source": [
    "df.head()"
   ]
  },
  {
   "cell_type": "code",
   "execution_count": 5,
   "metadata": {},
   "outputs": [
    {
     "name": "stdout",
     "output_type": "stream",
     "text": [
      "['Nacional' 'Destacadas' 'Deportes' 'Salud' 'Ciencia y Tecnologia'\n",
      " 'Entretenimiento' 'Economia' 'Internacional' nan 'Noticias destacadas']\n"
     ]
    }
   ],
   "source": [
    "#veo qué categorías hay en los datos, teníamos que sacar las noticias destacadas\n",
    "label_names = df[\"categoria\"].unique()\n",
    "print(label_names)"
   ]
  },
  {
   "cell_type": "code",
   "execution_count": 6,
   "metadata": {},
   "outputs": [],
   "source": [
    "df = df[df[\"categoria\"]!=\"Noticias destacadas\"]\n",
    "df = df[df[\"categoria\"]!=\"Destacadas\"]\n",
    "df = df.dropna()"
   ]
  },
  {
   "cell_type": "code",
   "execution_count": 49,
   "metadata": {},
   "outputs": [
    {
     "data": {
      "text/plain": [
       "array(['Nacional', 'Deportes', 'Salud', 'Ciencia y Tecnologia',\n",
       "       'Entretenimiento', 'Economia', 'Internacional'], dtype=object)"
      ]
     },
     "execution_count": 49,
     "metadata": {},
     "output_type": "execute_result"
    }
   ],
   "source": [
    "label_names = df[\"categoria\"].unique()\n",
    "df[\"categoria\"].unique()"
   ]
  },
  {
   "cell_type": "code",
   "execution_count": 47,
   "metadata": {},
   "outputs": [
    {
     "data": {
      "text/plain": [
       "26961"
      ]
     },
     "execution_count": 47,
     "metadata": {},
     "output_type": "execute_result"
    }
   ],
   "source": [
    "# Cantidad de titulares resultantes\n",
    "len(df)"
   ]
  },
  {
   "cell_type": "code",
   "execution_count": 48,
   "metadata": {},
   "outputs": [
    {
     "data": {
      "text/plain": [
       "Nacional                3860\n",
       "Ciencia y Tecnologia    3856\n",
       "Deportes                3855\n",
       "Entretenimiento         3850\n",
       "Economia                3850\n",
       "Internacional           3850\n",
       "Salud                   3840\n",
       "Name: categoria, dtype: int64"
      ]
     },
     "execution_count": 48,
     "metadata": {},
     "output_type": "execute_result"
    }
   ],
   "source": [
    "# Cantidad de artículos por clase\n",
    "df[\"categoria\"].value_counts()"
   ]
  },
  {
   "cell_type": "code",
   "execution_count": 10,
   "metadata": {},
   "outputs": [],
   "source": [
    "textos = list(df[\"titular\"])\n",
    "labels = list(df[\"categoria\"])"
   ]
  },
  {
   "cell_type": "code",
   "execution_count": 11,
   "metadata": {},
   "outputs": [],
   "source": [
    "from sklearn.model_selection import train_test_split\n",
    "import random"
   ]
  },
  {
   "cell_type": "code",
   "execution_count": 18,
   "metadata": {},
   "outputs": [],
   "source": [
    "train_size = 0.8\n",
    "N_train = int(train_size*len(textos))\n",
    "indexes = list(range(len(textos)))\n",
    "random.shuffle(indexes)\n",
    "indexes_train = indexes[:N_train]\n",
    "indexes_test = indexes[N_train:]\n",
    "x_train = [textos[idx] for idx in indexes_train]\n",
    "y_train = [labels[idx] for idx in indexes_train]\n",
    "x_test = [textos[idx] for idx in indexes_test]\n",
    "y_test = [labels[idx] for idx in indexes_test]"
   ]
  },
  {
   "cell_type": "code",
   "execution_count": 13,
   "metadata": {},
   "outputs": [],
   "source": [
    "x_train, x_test, y_train, y_test = train_test_split(textos, labels, test_size = 0.2, shuffle=True, stratify=labels)"
   ]
  },
  {
   "cell_type": "markdown",
   "metadata": {},
   "source": [
    "# Construcción del vocabulario"
   ]
  },
  {
   "cell_type": "code",
   "execution_count": 19,
   "metadata": {},
   "outputs": [],
   "source": [
    "from sklearn.feature_extraction.text import CountVectorizer\n",
    "from sklearn.naive_bayes import BernoulliNB"
   ]
  },
  {
   "cell_type": "code",
   "execution_count": 20,
   "metadata": {},
   "outputs": [],
   "source": [
    "vectorizer = CountVectorizer()"
   ]
  },
  {
   "cell_type": "code",
   "execution_count": 21,
   "metadata": {},
   "outputs": [],
   "source": [
    "x_train_vec = vectorizer.fit_transform(x_train)\n",
    "x_test_vec = vectorizer.transform(x_test)"
   ]
  },
  {
   "cell_type": "code",
   "execution_count": 22,
   "metadata": {},
   "outputs": [],
   "source": [
    "x_train_vec = 1*(x_train_vec>0).todense()\n",
    "x_test_vec = 1*(x_test_vec>0).todense()"
   ]
  },
  {
   "cell_type": "code",
   "execution_count": 23,
   "metadata": {},
   "outputs": [],
   "source": [
    "# veamos cómo se transforma una oración\n",
    "total = vectorizer.transform([x_train[0]])"
   ]
  },
  {
   "cell_type": "code",
   "execution_count": 24,
   "metadata": {},
   "outputs": [
    {
     "data": {
      "text/plain": [
       "'Charla sobre lactancia y VIH-SIDA'"
      ]
     },
     "execution_count": 24,
     "metadata": {},
     "output_type": "execute_result"
    }
   ],
   "source": [
    "x_train[0]"
   ]
  },
  {
   "cell_type": "code",
   "execution_count": 25,
   "metadata": {},
   "outputs": [
    {
     "name": "stdout",
     "output_type": "stream",
     "text": [
      "  (0, 2335)\t1\n",
      "  (0, 6913)\t1\n",
      "  (0, 10972)\t1\n",
      "  (0, 11073)\t1\n",
      "  (0, 12267)\t1\n"
     ]
    }
   ],
   "source": [
    "print(total)"
   ]
  },
  {
   "cell_type": "code",
   "execution_count": 27,
   "metadata": {},
   "outputs": [
    {
     "name": "stdout",
     "output_type": "stream",
     "text": [
      "lactancia\n"
     ]
    }
   ],
   "source": [
    "print(vectorizer.get_feature_names()[6913])"
   ]
  },
  {
   "cell_type": "code",
   "execution_count": 28,
   "metadata": {},
   "outputs": [],
   "source": [
    "datos_train = pd.DataFrame(x_train_vec, columns=vectorizer.vocabulary_)\n",
    "datos_train[\"categoria\"] = y_train \n",
    "datos_test = pd.DataFrame(x_test_vec, columns=vectorizer.vocabulary_)\n",
    "datos_test[\"categoria\"] = y_test"
   ]
  },
  {
   "cell_type": "code",
   "execution_count": 29,
   "metadata": {},
   "outputs": [],
   "source": [
    "clf_ej3 = BNV_ej3(smoothing=1)\n",
    "clf_sklearn=BernoulliNB(alpha=1)"
   ]
  },
  {
   "cell_type": "code",
   "execution_count": 30,
   "metadata": {},
   "outputs": [
    {
     "data": {
      "text/plain": [
       "BernoulliNB(alpha=1, binarize=0.0, class_prior=None, fit_prior=True)"
      ]
     },
     "execution_count": 30,
     "metadata": {},
     "output_type": "execute_result"
    }
   ],
   "source": [
    "clf_ej3.fit(datos_train, \"categoria\")\n",
    "clf_sklearn.fit(datos_train.drop(columns=\"categoria\"),datos_train[\"categoria\"])"
   ]
  },
  {
   "cell_type": "code",
   "execution_count": 31,
   "metadata": {},
   "outputs": [
    {
     "name": "stdout",
     "output_type": "stream",
     "text": [
      "Prioris obtenidas por nuestro modelo\n",
      "{'Salud': -1.9492074932712113, 'Economia': -1.9430396438202424, 'Entretenimiento': -1.943363320793452, 'Internacional': -1.9427160715799172, 'Nacional': -1.9440109892098743, 'Deportes': -1.9417459825790222, 'Ciencia y Tecnologia': -1.9573814802569265}\n",
      "Prioris obtenidas por sklearn\n",
      "['Ciencia y Tecnologia' 'Deportes' 'Economia' 'Entretenimiento'\n",
      " 'Internacional' 'Nacional' 'Salud'] [-1.95738148 -1.94174598 -1.94303964 -1.94336332 -1.94271607 -1.94401099\n",
      " -1.94920749]\n"
     ]
    }
   ],
   "source": [
    "print(\"Prioris obtenidas por nuestro modelo\")\n",
    "print(clf_ej3.log_prioris)\n",
    "print(\"Prioris obtenidas por sklearn\")\n",
    "print(clf_sklearn.classes_,clf_sklearn.class_log_prior_)"
   ]
  },
  {
   "cell_type": "code",
   "execution_count": 32,
   "metadata": {},
   "outputs": [
    {
     "name": "stdout",
     "output_type": "stream",
     "text": [
      "Las probabilidades de cada clase para cada observación, según nuestro modelo:\n",
      "           Salud      Economia  Entretenimiento  Internacional      Nacional  \\\n",
      "0   5.146307e-15  3.798909e-16     1.000000e+00   2.311708e-13  8.076526e-16   \n",
      "1   7.852938e-08  2.402330e-08     8.667824e-11   4.544076e-11  3.150469e-10   \n",
      "2   7.693636e-07  9.999320e-01     2.089145e-07   1.551646e-07  1.246049e-07   \n",
      "3   5.174566e-10  5.860309e-08     1.402714e-08   8.020902e-09  8.495598e-09   \n",
      "4   1.106315e-08  9.999963e-01     1.680805e-07   1.010853e-06  2.381609e-06   \n",
      "5   7.391835e-06  6.325812e-07     3.400408e-05   6.495574e-02  9.328514e-01   \n",
      "6   9.495407e-10  7.360515e-06     1.168476e-04   9.966511e-01  2.490170e-03   \n",
      "7   7.039247e-06  3.357682e-05     8.786558e-05   7.349002e-06  1.616744e-05   \n",
      "8   3.046080e-02  2.368789e-02     3.757959e-03   6.826770e-03  9.685985e-03   \n",
      "9   3.038910e-06  9.997733e-01     1.568889e-07   1.034559e-06  1.628857e-06   \n",
      "10  4.403769e-08  1.677741e-04     2.518645e-08   2.134321e-07  4.958040e-07   \n",
      "\n",
      "        Deportes  Ciencia y Tecnologia  \n",
      "0   1.955113e-12          1.697090e-15  \n",
      "1   1.360314e-09          9.999999e-01  \n",
      "2   2.823299e-06          6.391890e-05  \n",
      "3   1.480787e-07          9.999998e-01  \n",
      "4   8.913938e-08          2.029481e-08  \n",
      "5   2.150771e-03          5.967119e-08  \n",
      "6   7.344927e-04          7.087209e-11  \n",
      "7   9.998420e-01          5.967859e-06  \n",
      "8   2.560160e-02          8.999790e-01  \n",
      "9   6.592104e-06          2.142809e-04  \n",
      "10  2.188684e-07          9.998312e-01  \n",
      "\n",
      "\n",
      "Las probabilidades de cada clase para cada observación, según sklearn:\n",
      "[[1.69708984e-15 1.95511251e-12 3.79890899e-16 1.00000000e+00\n",
      "  2.31170849e-13 8.07652578e-16 5.14630721e-15]\n",
      " [9.99999896e-01 1.36031368e-09 2.40232980e-08 8.66782399e-11\n",
      "  4.54407578e-11 3.15046881e-10 7.85293843e-08]\n",
      " [6.39188963e-05 2.82329879e-06 9.99932000e-01 2.08914516e-07\n",
      "  1.55164643e-07 1.24604936e-07 7.69363587e-07]\n",
      " [9.99999762e-01 1.48078664e-07 5.86030925e-08 1.40271357e-08\n",
      "  8.02090151e-09 8.49559791e-09 5.17456617e-10]\n",
      " [2.02948125e-08 8.91393807e-08 9.99996319e-01 1.68080469e-07\n",
      "  1.01085298e-06 2.38160889e-06 1.10631485e-08]\n",
      " [5.96711884e-08 2.15077067e-03 6.32581175e-07 3.40040826e-05\n",
      "  6.49557358e-02 9.32851405e-01 7.39183455e-06]\n",
      " [7.08720900e-11 7.34492736e-04 7.36051540e-06 1.16847614e-04\n",
      "  9.96651128e-01 2.49017049e-03 9.49540733e-10]\n",
      " [5.96785935e-06 9.99842034e-01 3.35768152e-05 8.78655776e-05\n",
      "  7.34900191e-06 1.61674431e-05 7.03924703e-06]\n",
      " [8.99978994e-01 2.56015989e-02 2.36878925e-02 3.75795876e-03\n",
      "  6.82677009e-03 9.68598483e-03 3.04608005e-02]\n",
      " [2.14280949e-04 6.59210429e-06 9.99773268e-01 1.56888943e-07\n",
      "  1.03455866e-06 1.62885651e-06 3.03890989e-06]\n",
      " [9.99831229e-01 2.18868427e-07 1.67774143e-04 2.51864508e-08\n",
      "  2.13432068e-07 4.95803980e-07 4.40376949e-08]]\n"
     ]
    }
   ],
   "source": [
    "print(\"Las probabilidades de cada clase para cada observación, según nuestro modelo:\")\n",
    "print(clf_ej3.predict_proba(datos_test.loc[:10]), end=\"\\n\\n\\n\")\n",
    "print(\"Las probabilidades de cada clase para cada observación, según sklearn:\")\n",
    "print(clf_sklearn.predict_proba(datos_test.loc[:10].drop(columns=\"categoria\")))"
   ]
  },
  {
   "cell_type": "code",
   "execution_count": 33,
   "metadata": {},
   "outputs": [],
   "source": [
    "y_test_pred_proba = clf_ej3.predict_proba(datos_test)"
   ]
  },
  {
   "cell_type": "code",
   "execution_count": 34,
   "metadata": {},
   "outputs": [],
   "source": [
    "y_test_pred = list(y_test_pred_proba.idxmax(axis=1))"
   ]
  },
  {
   "cell_type": "markdown",
   "metadata": {},
   "source": [
    "# Accuracy"
   ]
  },
  {
   "cell_type": "code",
   "execution_count": 40,
   "metadata": {},
   "outputs": [
    {
     "data": {
      "text/plain": [
       "0.9517893565733359"
      ]
     },
     "execution_count": 40,
     "metadata": {},
     "output_type": "execute_result"
    }
   ],
   "source": [
    "# Calculo el Accuracy del modelo\n",
    "(np.array(y_test_pred) == np.array(y_test)).mean()"
   ]
  },
  {
   "cell_type": "markdown",
   "metadata": {},
   "source": [
    "# Matriz de confusión"
   ]
  },
  {
   "cell_type": "code",
   "execution_count": 41,
   "metadata": {},
   "outputs": [],
   "source": [
    "confusion_matrix=dict()\n",
    "for pred, true in zip(y_test_pred, y_test):\n",
    "    if (pred,true) not in confusion_matrix:\n",
    "        confusion_matrix[(pred,true)]=1\n",
    "    else:\n",
    "        confusion_matrix[(pred,true)]+=1"
   ]
  },
  {
   "cell_type": "code",
   "execution_count": 42,
   "metadata": {},
   "outputs": [
    {
     "data": {
      "text/plain": [
       "47"
      ]
     },
     "execution_count": 42,
     "metadata": {},
     "output_type": "execute_result"
    }
   ],
   "source": [
    "len(confusion_matrix)"
   ]
  },
  {
   "cell_type": "code",
   "execution_count": 45,
   "metadata": {},
   "outputs": [
    {
     "data": {
      "text/plain": [
       "array(['Nacional', 'Destacadas', 'Deportes', 'Salud',\n",
       "       'Ciencia y Tecnologia', 'Entretenimiento', 'Economia',\n",
       "       'Internacional', nan, 'Noticias destacadas'], dtype=object)"
      ]
     },
     "execution_count": 45,
     "metadata": {},
     "output_type": "execute_result"
    }
   ],
   "source": [
    "label_names"
   ]
  },
  {
   "cell_type": "code",
   "execution_count": 50,
   "metadata": {},
   "outputs": [
    {
     "name": "stdout",
     "output_type": "stream",
     "text": [
      "pre/tru Nacion\tDeport\tSalud\tCienci\tEntret\tEconom\tIntern\t\n",
      "Nacion\t720\t2\t1\t1\t10\t4\t37\t\n",
      "Deport\t6\t735\t2\t1\t6\t0\t5\t\n",
      "Salud\t8\t2\t753\t6\t4\t6\t7\t\n",
      "Cienci\t0\t2\t2\t785\t2\t12\t8\t\n",
      "Entret\t8\t12\t1\t1\t729\t3\t6\t\n",
      "Econom\t12\t2\t6\t14\t2\t729\t14\t\n",
      "Intern\t19\t6\t4\t2\t8\t6\t682\t\n"
     ]
    }
   ],
   "source": [
    "print(\"pre/tru \", end=\"\")\n",
    "[print(label_true[:6],end=\"\\t\") for label_true in label_names]\n",
    "print()\n",
    "for label_pred in label_names:\n",
    "    print(label_pred[:6], end=\"\\t\")\n",
    "    for label_true in label_names:\n",
    "        print(confusion_matrix.get((label_pred, label_true),0), end=\"\\t\")\n",
    "    print()"
   ]
  },
  {
   "cell_type": "markdown",
   "metadata": {},
   "source": [
    "# Precision de cada clase\n",
    "## Macro-Average Precision"
   ]
  },
  {
   "cell_type": "code",
   "execution_count": 51,
   "metadata": {},
   "outputs": [],
   "source": [
    "TP=dict()\n",
    "PP=dict()\n",
    "for label_pred in label_names:\n",
    "    TP[label_pred] = confusion_matrix.get((label_pred, label_pred),0)\n",
    "    PP[label_pred] = 0\n",
    "    for label_true in label_names:\n",
    "        PP[label_pred] += confusion_matrix.get((label_pred, label_true),0)"
   ]
  },
  {
   "cell_type": "code",
   "execution_count": 52,
   "metadata": {},
   "outputs": [],
   "source": [
    "precisions = {label:TP[label]/PP[label] for label in label_names}"
   ]
  },
  {
   "cell_type": "code",
   "execution_count": 53,
   "metadata": {},
   "outputs": [
    {
     "name": "stdout",
     "output_type": "stream",
     "text": [
      "{'Nacional': 0.9290322580645162, 'Deportes': 0.9735099337748344, 'Salud': 0.9580152671755725, 'Ciencia y Tecnologia': 0.967940813810111, 'Entretenimiento': 0.9592105263157895, 'Economia': 0.9358151476251605, 'Internacional': 0.938101788170564}\n"
     ]
    }
   ],
   "source": [
    "print(precisions)"
   ]
  },
  {
   "cell_type": "code",
   "execution_count": 99,
   "metadata": {},
   "outputs": [
    {
     "data": {
      "text/plain": [
       "0.9290322580645162"
      ]
     },
     "execution_count": 99,
     "metadata": {},
     "output_type": "execute_result"
    }
   ],
   "source": [
    "#Chequeo de la precision de la clase Nacional\n",
    "720/(720+2+1+1+10+4+37)"
   ]
  },
  {
   "cell_type": "code",
   "execution_count": 55,
   "metadata": {},
   "outputs": [
    {
     "data": {
      "text/plain": [
       "0.9516608192766497"
      ]
     },
     "execution_count": 55,
     "metadata": {},
     "output_type": "execute_result"
    }
   ],
   "source": [
    "#Macro-Average Precision\n",
    "sum(list(precisions.values()))/len(label_names)"
   ]
  },
  {
   "cell_type": "markdown",
   "metadata": {},
   "source": [
    "## Micro-Average Precision"
   ]
  },
  {
   "cell_type": "code",
   "execution_count": 56,
   "metadata": {},
   "outputs": [
    {
     "data": {
      "text/plain": [
       "0.9517893565733359"
      ]
     },
     "execution_count": 56,
     "metadata": {},
     "output_type": "execute_result"
    }
   ],
   "source": [
    "#SUM(TP)/SUM(PP)\n",
    "sum(list(TP.values()))/sum(list(PP.values()))"
   ]
  },
  {
   "cell_type": "markdown",
   "metadata": {},
   "source": [
    "# Recall de cada clase\n",
    "## Macro-Average Recall"
   ]
  },
  {
   "cell_type": "code",
   "execution_count": 57,
   "metadata": {},
   "outputs": [],
   "source": [
    "TP=dict()\n",
    "P=dict()\n",
    "for label_true in label_names:\n",
    "    TP[label_true] = confusion_matrix.get((label_true, label_true),0)\n",
    "    P[label_true] = 0\n",
    "    for label_pred in label_names:\n",
    "        P[label_true] += confusion_matrix.get((label_pred, label_true),0)"
   ]
  },
  {
   "cell_type": "code",
   "execution_count": 58,
   "metadata": {},
   "outputs": [],
   "source": [
    "recalls = {label:TP[label]/P[label] for label in label_names}"
   ]
  },
  {
   "cell_type": "code",
   "execution_count": 59,
   "metadata": {},
   "outputs": [
    {
     "name": "stdout",
     "output_type": "stream",
     "text": [
      "{'Nacional': 0.9314359637774903, 'Deportes': 0.9658344283837057, 'Salud': 0.9791937581274383, 'Ciencia y Tecnologia': 0.9691358024691358, 'Entretenimiento': 0.9579500657030223, 'Economia': 0.9592105263157895, 'Internacional': 0.8985507246376812}\n"
     ]
    }
   ],
   "source": [
    "print(recalls)"
   ]
  },
  {
   "cell_type": "code",
   "execution_count": 60,
   "metadata": {},
   "outputs": [
    {
     "data": {
      "text/plain": [
       "0.9196891191709845"
      ]
     },
     "execution_count": 60,
     "metadata": {},
     "output_type": "execute_result"
    }
   ],
   "source": [
    "#Chequeo de la precision de la clase Nacional\n",
    "710/(710+8+8+0+7+18+21)"
   ]
  },
  {
   "cell_type": "code",
   "execution_count": 61,
   "metadata": {},
   "outputs": [
    {
     "data": {
      "text/plain": [
       "0.951615895630609"
      ]
     },
     "execution_count": 61,
     "metadata": {},
     "output_type": "execute_result"
    }
   ],
   "source": [
    "#Macro-Average Recall\n",
    "sum(list(recalls.values()))/len(label_names)"
   ]
  },
  {
   "cell_type": "markdown",
   "metadata": {},
   "source": [
    "## Micro-Average Recall"
   ]
  },
  {
   "cell_type": "code",
   "execution_count": 62,
   "metadata": {},
   "outputs": [
    {
     "data": {
      "text/plain": [
       "0.9517893565733359"
      ]
     },
     "execution_count": 62,
     "metadata": {},
     "output_type": "execute_result"
    }
   ],
   "source": [
    "#SUM(TP)/SUM(P)\n",
    "sum(list(TP.values()))/sum(list(P.values()))"
   ]
  },
  {
   "cell_type": "markdown",
   "metadata": {},
   "source": [
    "# F1-score de cada clase\n",
    "## Macro-Average F1-Score"
   ]
  },
  {
   "cell_type": "code",
   "execution_count": 63,
   "metadata": {},
   "outputs": [],
   "source": [
    "f1scores= {label:(2*(precisions[label]*recalls[label])/(precisions[label]+recalls[label])) for label in label_names}"
   ]
  },
  {
   "cell_type": "code",
   "execution_count": 64,
   "metadata": {},
   "outputs": [
    {
     "name": "stdout",
     "output_type": "stream",
     "text": [
      "{'Nacional': 0.9302325581395348, 'Deportes': 0.9696569920844327, 'Salud': 0.9684887459807073, 'Ciencia y Tecnologia': 0.9685379395434917, 'Entretenimiento': 0.9585798816568049, 'Economia': 0.9473684210526315, 'Internacional': 0.917900403768506}\n"
     ]
    }
   ],
   "source": [
    "print(f1scores)"
   ]
  },
  {
   "cell_type": "code",
   "execution_count": 65,
   "metadata": {},
   "outputs": [
    {
     "data": {
      "text/plain": [
       "0.9515378488894441"
      ]
     },
     "execution_count": 65,
     "metadata": {},
     "output_type": "execute_result"
    }
   ],
   "source": [
    "#Macro-Average F1-Score\n",
    "sum(list(f1scores.values()))/len(label_names)"
   ]
  },
  {
   "cell_type": "markdown",
   "metadata": {},
   "source": [
    "Se verifica correctamente que Micro-Average Recall = Micro-Average Precision = Accuracy = Micro-Average F1-Score"
   ]
  },
  {
   "cell_type": "markdown",
   "metadata": {},
   "source": [
    "# FPR de cada clase"
   ]
  },
  {
   "cell_type": "code",
   "execution_count": 66,
   "metadata": {},
   "outputs": [
    {
     "name": "stdout",
     "output_type": "stream",
     "text": [
      "pre/tru Nacion\tDeport\tSalud\tCienci\tEntret\tEconom\tIntern\t\n",
      "Nacion\t720\t2\t1\t1\t10\t4\t37\t\n",
      "Deport\t6\t735\t2\t1\t6\t0\t5\t\n",
      "Salud\t8\t2\t753\t6\t4\t6\t7\t\n",
      "Cienci\t0\t2\t2\t785\t2\t12\t8\t\n",
      "Entret\t8\t12\t1\t1\t729\t3\t6\t\n",
      "Econom\t12\t2\t6\t14\t2\t729\t14\t\n",
      "Intern\t19\t6\t4\t2\t8\t6\t682\t\n"
     ]
    }
   ],
   "source": [
    "print(\"pre/tru \", end=\"\")\n",
    "[print(label_true[:6],end=\"\\t\") for label_true in label_names]\n",
    "print()\n",
    "for label_pred in label_names:\n",
    "    print(label_pred[:6], end=\"\\t\")\n",
    "    for label_true in label_names:\n",
    "        print(confusion_matrix.get((label_pred, label_true),0), end=\"\\t\")\n",
    "    print()"
   ]
  },
  {
   "cell_type": "code",
   "execution_count": 67,
   "metadata": {},
   "outputs": [],
   "source": [
    "FP=dict()\n",
    "for label in label_names:\n",
    "    FP[label] = sum([confusion_matrix.get((label, aux_label),0) for aux_label in label_names if aux_label != label])\n",
    "TN=dict()\n",
    "for label in label_names:\n",
    "    TN[label]=0\n",
    "    for aux_label1 in label_names:\n",
    "        for aux_label2 in label_names:\n",
    "            if aux_label1 != label and aux_label2 !=label:\n",
    "                TN[label] += confusion_matrix.get((aux_label1, aux_label2),0)"
   ]
  },
  {
   "cell_type": "code",
   "execution_count": 68,
   "metadata": {},
   "outputs": [
    {
     "data": {
      "text/plain": [
       "{'Nacional': 55,\n",
       " 'Deportes': 20,\n",
       " 'Salud': 33,\n",
       " 'Ciencia y Tecnologia': 26,\n",
       " 'Entretenimiento': 31,\n",
       " 'Economia': 50,\n",
       " 'Internacional': 45}"
      ]
     },
     "execution_count": 68,
     "metadata": {},
     "output_type": "execute_result"
    }
   ],
   "source": [
    "FP"
   ]
  },
  {
   "cell_type": "code",
   "execution_count": 69,
   "metadata": {},
   "outputs": [
    {
     "data": {
      "text/plain": [
       "{'Nacional': 4565,\n",
       " 'Deportes': 4612,\n",
       " 'Salud': 4591,\n",
       " 'Ciencia y Tecnologia': 4557,\n",
       " 'Entretenimiento': 4601,\n",
       " 'Economia': 4583,\n",
       " 'Internacional': 4589}"
      ]
     },
     "execution_count": 69,
     "metadata": {},
     "output_type": "execute_result"
    }
   ],
   "source": [
    "TN"
   ]
  },
  {
   "cell_type": "code",
   "execution_count": 70,
   "metadata": {},
   "outputs": [],
   "source": [
    "FPRs= {label:FP[label]/(FP[label]+TN[label]) for label in label_names}"
   ]
  },
  {
   "cell_type": "code",
   "execution_count": 71,
   "metadata": {},
   "outputs": [
    {
     "name": "stdout",
     "output_type": "stream",
     "text": [
      "{'Nacional': 0.011904761904761904, 'Deportes': 0.004317789291882556, 'Salud': 0.007136678200692042, 'Ciencia y Tecnologia': 0.005673139864717434, 'Entretenimiento': 0.006692573402417962, 'Economia': 0.010792143319663286, 'Internacional': 0.009710832973672853}\n"
     ]
    }
   ],
   "source": [
    "print(FPRs)"
   ]
  },
  {
   "cell_type": "markdown",
   "metadata": {},
   "source": [
    "## Macro-Average FPR"
   ]
  },
  {
   "cell_type": "code",
   "execution_count": 72,
   "metadata": {},
   "outputs": [
    {
     "data": {
      "text/plain": [
       "0.008032559851115433"
      ]
     },
     "execution_count": 72,
     "metadata": {},
     "output_type": "execute_result"
    }
   ],
   "source": [
    "#Macro-Average FPR\n",
    "sum(list(FPRs.values()))/len(label_names)"
   ]
  },
  {
   "cell_type": "markdown",
   "metadata": {},
   "source": [
    "## Micro-Average FPR"
   ]
  },
  {
   "cell_type": "code",
   "execution_count": 73,
   "metadata": {},
   "outputs": [
    {
     "data": {
      "text/plain": [
       "0.008035107237777365"
      ]
     },
     "execution_count": 73,
     "metadata": {},
     "output_type": "execute_result"
    }
   ],
   "source": [
    "sum(list(FP.values()))/(sum(list(FP.values()))+sum(list(TN.values())))"
   ]
  },
  {
   "cell_type": "markdown",
   "metadata": {},
   "source": [
    "# Curva ROC\n",
    "\n",
    "Para armar la curva ROC de un problema de clasificación multiclase hay que:\n",
    "\n",
    "elegir el esquema que se utilizará: OVO vs OVR  \n",
    "OVO: K\\*(K+1)/2 clasificadores binarios  \n",
    "OVR: K clasificadores binarios  \n",
    "\n",
    "Luego hay que levantar la curva ROC para cada uno de los clasificadores, resamplear las curvas y luego hacer un promedio, ya sea ponderado por la prevalencia de clase (Micro Average ROC) o sin ponderar (Macro Average ROC).  \n",
    "No lo voy a hacer a mano, ya que hasta acá llega mi entusiasmo.\n",
    "\n",
    "Para cumplir con el punto, voy a convertir el problema de clasificación multiclase en un problema de clasificación binario:\n",
    "Noticias Nacionales vs El Resto.\n",
    "\n",
    "Por lo que voy a filtrar solamente las columnas pertenecientes a las probabilidades de las Noticias Nacionales."
   ]
  },
  {
   "cell_type": "code",
   "execution_count": 85,
   "metadata": {},
   "outputs": [],
   "source": [
    "y_test_bin_proba = list(y_test_pred_proba[\"Nacional\"])"
   ]
  },
  {
   "cell_type": "code",
   "execution_count": 86,
   "metadata": {},
   "outputs": [],
   "source": [
    "y_test_bin_true = list(1*(datos_test[\"categoria\"]==\"Nacional\"))"
   ]
  },
  {
   "cell_type": "code",
   "execution_count": 87,
   "metadata": {},
   "outputs": [
    {
     "data": {
      "text/plain": [
       "[8.076525775049838e-16,\n",
       " 3.150468810475736e-10,\n",
       " 1.2460493557109566e-07,\n",
       " 8.495597906338685e-09,\n",
       " 2.381608887507633e-06]"
      ]
     },
     "execution_count": 87,
     "metadata": {},
     "output_type": "execute_result"
    }
   ],
   "source": [
    "y_test_bin_proba[:5]"
   ]
  },
  {
   "cell_type": "code",
   "execution_count": 88,
   "metadata": {},
   "outputs": [
    {
     "data": {
      "text/plain": [
       "[0, 0, 0, 0, 0]"
      ]
     },
     "execution_count": 88,
     "metadata": {},
     "output_type": "execute_result"
    }
   ],
   "source": [
    "y_test_bin_true[:5]"
   ]
  },
  {
   "cell_type": "code",
   "execution_count": 89,
   "metadata": {},
   "outputs": [],
   "source": [
    "def get_fpr_tpr(y_preds, y_trues, th):\n",
    "    y_preds = np.array(y_preds)\n",
    "    y_preds = 1*(y_preds > th)\n",
    "    TN=0\n",
    "    FN=0\n",
    "    TP=0\n",
    "    FP=0\n",
    "    for y_pred, y_true in zip(y_preds, y_trues):\n",
    "        if (y_pred and y_true):\n",
    "            TP += 1\n",
    "        if (y_pred and not y_true):\n",
    "            FP += 1\n",
    "        if (not y_pred and y_true):\n",
    "            FN += 1\n",
    "        if (not y_pred and not y_true):\n",
    "            TN += 1\n",
    "    FPR = FP/(FP+TN)\n",
    "    TPR = TP/(FN+TP)\n",
    "    return FPR, TPR"
   ]
  },
  {
   "cell_type": "code",
   "execution_count": 90,
   "metadata": {},
   "outputs": [],
   "source": [
    "FPRs=list()\n",
    "TPRs=list()\n",
    "for th in np.linspace(0,1,1000):\n",
    "    FPR, TPR = get_fpr_tpr(y_test_bin_proba,y_test_bin_true,th)\n",
    "    FPRs.append(FPR)\n",
    "    TPRs.append(TPR)"
   ]
  },
  {
   "cell_type": "code",
   "execution_count": 92,
   "metadata": {},
   "outputs": [
    {
     "data": {
      "text/plain": [
       "(0.025974025974025976, 0.9650711513583441)"
      ]
     },
     "execution_count": 92,
     "metadata": {},
     "output_type": "execute_result"
    }
   ],
   "source": [
    "get_fpr_tpr(y_test_bin_proba,y_test_bin_true,0.1)"
   ]
  },
  {
   "cell_type": "code",
   "execution_count": 93,
   "metadata": {},
   "outputs": [],
   "source": [
    "from matplotlib import pyplot as plt\n",
    "from sklearn.metrics import auc"
   ]
  },
  {
   "cell_type": "code",
   "execution_count": 94,
   "metadata": {},
   "outputs": [
    {
     "data": {
      "image/png": "[encoded data removed]",
      "text/plain": [
       "<Figure size 432x288 with 1 Axes>"
      ]
     },
     "metadata": {
      "needs_background": "light"
     },
     "output_type": "display_data"
    }
   ],
   "source": [
    "plt.plot(FPRs,TPRs)\n",
    "plt.show()"
   ]
  },
  {
   "cell_type": "code",
   "execution_count": 96,
   "metadata": {},
   "outputs": [
    {
     "data": {
      "image/png": "[encoded data removed]",
      "text/plain": [
       "<Figure size 1296x432 with 1 Axes>"
      ]
     },
     "metadata": {
      "needs_background": "light"
     },
     "output_type": "display_data"
    }
   ],
   "source": [
    "FPRs = dict()\n",
    "TPRs = dict()\n",
    "aucs = dict()\n",
    "plt.figure(figsize=[18,6])\n",
    "for label in label_names:\n",
    "    FPRs[label] = []\n",
    "    TPRs[label] = []\n",
    "    y_test_bin_proba = list(y_test_pred_proba[label])\n",
    "    y_test_bin_true = list(1*(datos_test[\"categoria\"]==label))\n",
    "    for th in np.linspace(0,1,1000):\n",
    "        FPR, TPR = get_fpr_tpr(y_test_bin_proba,y_test_bin_true,th)\n",
    "        FPRs[label].append(FPR)\n",
    "        TPRs[label].append(TPR)\n",
    "    aucs[label] = auc(FPRs[label],TPRs[label])\n",
    "    plt.plot(FPRs[label],TPRs[label], label=f'{label}, AUC = {aucs[label]}')\n",
    "plt.legend()\n",
    "plt.title(\"ROC Curves\")\n",
    "plt.xlabel(\"FPR\")\n",
    "plt.ylabel(\"TPR\")\n",
    "plt.show()"
   ]
  },
  {
   "cell_type": "code",
   "execution_count": 97,
   "metadata": {},
   "outputs": [
    {
     "data": {
      "text/plain": [
       "0.9938399655250542"
      ]
     },
     "execution_count": 97,
     "metadata": {},
     "output_type": "execute_result"
    }
   ],
   "source": [
    "# Macro-Average AUC-ROC\n",
    "sum(list(aucs.values()))/len(label_names)"
   ]
  }
 ],
 "metadata": {
  "kernelspec": {
   "display_name": "Python 3.7.3 (NLP)",
   "language": "python",
   "name": "nlp"
  },
  "language_info": {
   "codemirror_mode": {
    "name": "ipython",
    "version": 3
   },
   "file_extension": ".py",
   "mimetype": "text/x-python",
   "name": "python",
   "nbconvert_exporter": "python",
   "pygments_lexer": "ipython3",
   "version": "3.7.3"
  }
 },
 "nbformat": 4,
 "nbformat_minor": 2
}
